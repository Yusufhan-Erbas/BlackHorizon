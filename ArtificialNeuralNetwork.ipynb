{
  "nbformat": 4,
  "nbformat_minor": 0,
  "metadata": {
    "colab": {
      "provenance": [],
      "include_colab_link": true
    },
    "kernelspec": {
      "name": "python3",
      "display_name": "Python 3"
    }
  },
  "cells": [
    {
      "cell_type": "markdown",
      "metadata": {
        "id": "view-in-github",
        "colab_type": "text"
      },
      "source": [
        "<a href=\"https://colab.research.google.com/github/Yusufhan-Erbas/BlackHorizon/blob/master/ArtificialNeuralNetwork.ipynb\" target=\"_parent\"><img src=\"https://colab.research.google.com/assets/colab-badge.svg\" alt=\"Open In Colab\"/></a>"
      ]
    },
    {
      "cell_type": "markdown",
      "metadata": {
        "id": "3cbb7fRy-eyr"
      },
      "source": [
        "# Artificial Neural Network"
      ]
    },
    {
      "cell_type": "markdown",
      "metadata": {
        "id": "8sNDnxE2-pwE"
      },
      "source": [
        "### Importing the libraries"
      ]
    },
    {
      "cell_type": "code",
      "source": [
        "import numpy as np\n",
        "import pandas as pd\n",
        "import tensorflow as tf"
      ],
      "metadata": {
        "id": "9gHfWFXBrpVz"
      },
      "execution_count": 1,
      "outputs": []
    },
    {
      "cell_type": "code",
      "source": [
        "tf.__version__"
      ],
      "metadata": {
        "colab": {
          "base_uri": "https://localhost:8080/",
          "height": 35
        },
        "id": "-OR4czXor1gu",
        "outputId": "4669a377-0188-4bec-cbca-e99cc889f59a"
      },
      "execution_count": 2,
      "outputs": [
        {
          "output_type": "execute_result",
          "data": {
            "text/plain": [
              "'2.11.0'"
            ],
            "application/vnd.google.colaboratory.intrinsic+json": {
              "type": "string"
            }
          },
          "metadata": {},
          "execution_count": 2
        }
      ]
    },
    {
      "cell_type": "markdown",
      "metadata": {
        "id": "AG3FQEch-yuA"
      },
      "source": [
        "## Part 1 - Data Preprocessing"
      ]
    },
    {
      "cell_type": "markdown",
      "metadata": {
        "id": "-4zq8Mza_D9O"
      },
      "source": [
        "### Importing the dataset"
      ]
    },
    {
      "cell_type": "code",
      "source": [
        "dataset=pd.read_excel('Folds5x2_pp.xlsx')\n",
        "x=dataset.iloc[:, :-1].values\n",
        "y=dataset.iloc[:,-1].values"
      ],
      "metadata": {
        "id": "9k0nJKoEtX11"
      },
      "execution_count": 3,
      "outputs": []
    },
    {
      "cell_type": "code",
      "source": [
        "print(x)\n",
        "print(y)"
      ],
      "metadata": {
        "colab": {
          "base_uri": "https://localhost:8080/"
        },
        "id": "zInSi1f9xDzo",
        "outputId": "b640507b-0d01-43b9-abbb-cacd13358f8e"
      },
      "execution_count": 4,
      "outputs": [
        {
          "output_type": "stream",
          "name": "stdout",
          "text": [
            "[[  14.96   41.76 1024.07   73.17]\n",
            " [  25.18   62.96 1020.04   59.08]\n",
            " [   5.11   39.4  1012.16   92.14]\n",
            " ...\n",
            " [  31.32   74.33 1012.92   36.48]\n",
            " [  24.48   69.45 1013.86   62.39]\n",
            " [  21.6    62.52 1017.23   67.87]]\n",
            "[463.26 444.37 488.56 ... 429.57 435.74 453.28]\n"
          ]
        }
      ]
    },
    {
      "cell_type": "markdown",
      "metadata": {
        "id": "VC6omXel_Up0"
      },
      "source": [
        "### Splitting the dataset into the Training set and Test set"
      ]
    },
    {
      "cell_type": "code",
      "source": [
        "from sklearn.model_selection import train_test_split\n",
        "x_train,x_test,y_train,y_test=train_test_split(x,y,test_size=0.2,random_state=0)"
      ],
      "metadata": {
        "id": "IeDi37iByprZ"
      },
      "execution_count": 5,
      "outputs": []
    },
    {
      "cell_type": "markdown",
      "metadata": {
        "id": "_mSLlAT9_eyI"
      },
      "source": [
        "## Part 2 - Building the ANN"
      ]
    },
    {
      "cell_type": "markdown",
      "metadata": {
        "id": "CsBULd_f_wLY"
      },
      "source": [
        "### Initializing the ANN"
      ]
    },
    {
      "cell_type": "code",
      "source": [
        "ann=tf.keras.models.Sequential()"
      ],
      "metadata": {
        "id": "R6oNHJ9Q5LzS"
      },
      "execution_count": 6,
      "outputs": []
    },
    {
      "cell_type": "markdown",
      "metadata": {
        "id": "iitAFJS_ABUn"
      },
      "source": [
        "### Adding the input layer and the first hidden layer"
      ]
    },
    {
      "cell_type": "code",
      "source": [
        "ann.add(tf.keras.layers.Dense(units=6,activation='relu'))"
      ],
      "metadata": {
        "id": "PnnRuBjrVmbk"
      },
      "execution_count": 7,
      "outputs": []
    },
    {
      "cell_type": "markdown",
      "metadata": {
        "id": "-lb4kK_wAKbs"
      },
      "source": [
        "### Adding the second hidden layer"
      ]
    },
    {
      "cell_type": "code",
      "source": [
        "ann.add(tf.keras.layers.Dense(units=6,activation='relu'))"
      ],
      "metadata": {
        "id": "LCZ66GetWtFU"
      },
      "execution_count": 8,
      "outputs": []
    },
    {
      "cell_type": "markdown",
      "metadata": {
        "id": "jwMOmKb3AdBY"
      },
      "source": [
        "### Adding the output layer"
      ]
    },
    {
      "cell_type": "code",
      "source": [
        "ann.add(tf.keras.layers.Dense(units=1))"
      ],
      "metadata": {
        "id": "1zf1jozlguwz"
      },
      "execution_count": 10,
      "outputs": []
    },
    {
      "cell_type": "markdown",
      "metadata": {
        "id": "fq7e4fF6A1yy"
      },
      "source": [
        "## Part 3 - Training the ANN"
      ]
    },
    {
      "cell_type": "markdown",
      "metadata": {
        "id": "qDeylAs2An25"
      },
      "source": [
        "### Compiling the ANN"
      ]
    },
    {
      "cell_type": "code",
      "source": [
        "ann.compile(optimizer='adam',loss='mean_squared_error')"
      ],
      "metadata": {
        "id": "hmvmHXowi9Zh"
      },
      "execution_count": 11,
      "outputs": []
    },
    {
      "cell_type": "markdown",
      "metadata": {
        "id": "YjVuiybYOo7r"
      },
      "source": [
        "### Training the ANN model on the Training set"
      ]
    },
    {
      "cell_type": "code",
      "source": [
        "ann.fit(x_train,y_train,batch_size=32,epochs=100)"
      ],
      "metadata": {
        "colab": {
          "base_uri": "https://localhost:8080/"
        },
        "id": "P_mJ7bc-k1Lt",
        "outputId": "0807708a-6ec2-4a19-a0a4-2f07fbed59c1"
      },
      "execution_count": 12,
      "outputs": [
        {
          "output_type": "stream",
          "name": "stdout",
          "text": [
            "Epoch 1/100\n",
            "240/240 [==============================] - 2s 2ms/step - loss: 206574.1250\n",
            "Epoch 2/100\n",
            "240/240 [==============================] - 0s 2ms/step - loss: 206356.2500\n",
            "Epoch 3/100\n",
            "240/240 [==============================] - 0s 2ms/step - loss: 206138.2969\n",
            "Epoch 4/100\n",
            "240/240 [==============================] - 0s 2ms/step - loss: 205920.8594\n",
            "Epoch 5/100\n",
            "240/240 [==============================] - 0s 2ms/step - loss: 205703.4062\n",
            "Epoch 6/100\n",
            "240/240 [==============================] - 0s 2ms/step - loss: 205486.1094\n",
            "Epoch 7/100\n",
            "240/240 [==============================] - 0s 2ms/step - loss: 205269.1094\n",
            "Epoch 8/100\n",
            "240/240 [==============================] - 0s 2ms/step - loss: 205052.1250\n",
            "Epoch 9/100\n",
            "240/240 [==============================] - 0s 2ms/step - loss: 204835.2969\n",
            "Epoch 10/100\n",
            "240/240 [==============================] - 0s 2ms/step - loss: 204618.6250\n",
            "Epoch 11/100\n",
            "240/240 [==============================] - 0s 2ms/step - loss: 204401.9688\n",
            "Epoch 12/100\n",
            "240/240 [==============================] - 0s 2ms/step - loss: 204185.6875\n",
            "Epoch 13/100\n",
            "240/240 [==============================] - 0s 2ms/step - loss: 203969.3438\n",
            "Epoch 14/100\n",
            "240/240 [==============================] - 0s 2ms/step - loss: 203753.2188\n",
            "Epoch 15/100\n",
            "240/240 [==============================] - 0s 2ms/step - loss: 203537.1719\n",
            "Epoch 16/100\n",
            "240/240 [==============================] - 0s 2ms/step - loss: 203321.1406\n",
            "Epoch 17/100\n",
            "240/240 [==============================] - 0s 2ms/step - loss: 203105.4062\n",
            "Epoch 18/100\n",
            "240/240 [==============================] - 0s 2ms/step - loss: 202889.8281\n",
            "Epoch 19/100\n",
            "240/240 [==============================] - 0s 2ms/step - loss: 202674.1875\n",
            "Epoch 20/100\n",
            "240/240 [==============================] - 0s 2ms/step - loss: 202458.7812\n",
            "Epoch 21/100\n",
            "240/240 [==============================] - 0s 2ms/step - loss: 202243.4844\n",
            "Epoch 22/100\n",
            "240/240 [==============================] - 0s 2ms/step - loss: 202028.4531\n",
            "Epoch 23/100\n",
            "240/240 [==============================] - 1s 2ms/step - loss: 201813.2656\n",
            "Epoch 24/100\n",
            "240/240 [==============================] - 1s 2ms/step - loss: 201598.3438\n",
            "Epoch 25/100\n",
            "240/240 [==============================] - 1s 2ms/step - loss: 201383.3906\n",
            "Epoch 26/100\n",
            "240/240 [==============================] - 1s 2ms/step - loss: 201168.7031\n",
            "Epoch 27/100\n",
            "240/240 [==============================] - 1s 3ms/step - loss: 200954.1250\n",
            "Epoch 28/100\n",
            "240/240 [==============================] - 0s 2ms/step - loss: 200739.5938\n",
            "Epoch 29/100\n",
            "240/240 [==============================] - 0s 2ms/step - loss: 200525.2969\n",
            "Epoch 30/100\n",
            "240/240 [==============================] - 0s 2ms/step - loss: 200310.9531\n",
            "Epoch 31/100\n",
            "240/240 [==============================] - 0s 2ms/step - loss: 200096.8906\n",
            "Epoch 32/100\n",
            "240/240 [==============================] - 0s 2ms/step - loss: 199882.8594\n",
            "Epoch 33/100\n",
            "240/240 [==============================] - 0s 2ms/step - loss: 199669.0312\n",
            "Epoch 34/100\n",
            "240/240 [==============================] - 0s 2ms/step - loss: 199455.1094\n",
            "Epoch 35/100\n",
            "240/240 [==============================] - 0s 2ms/step - loss: 199241.4375\n",
            "Epoch 36/100\n",
            "240/240 [==============================] - 0s 2ms/step - loss: 199027.9219\n",
            "Epoch 37/100\n",
            "240/240 [==============================] - 0s 2ms/step - loss: 198814.6094\n",
            "Epoch 38/100\n",
            "240/240 [==============================] - 0s 2ms/step - loss: 198601.1406\n",
            "Epoch 39/100\n",
            "240/240 [==============================] - 0s 2ms/step - loss: 198387.9688\n",
            "Epoch 40/100\n",
            "240/240 [==============================] - 0s 2ms/step - loss: 198174.7812\n",
            "Epoch 41/100\n",
            "240/240 [==============================] - 0s 2ms/step - loss: 197961.8594\n",
            "Epoch 42/100\n",
            "240/240 [==============================] - 0s 2ms/step - loss: 197748.9219\n",
            "Epoch 43/100\n",
            "240/240 [==============================] - 0s 2ms/step - loss: 197536.2812\n",
            "Epoch 44/100\n",
            "240/240 [==============================] - 0s 2ms/step - loss: 197323.5781\n",
            "Epoch 45/100\n",
            "240/240 [==============================] - 0s 2ms/step - loss: 197111.0469\n",
            "Epoch 46/100\n",
            "240/240 [==============================] - 0s 2ms/step - loss: 196898.5938\n",
            "Epoch 47/100\n",
            "240/240 [==============================] - 0s 2ms/step - loss: 196686.2344\n",
            "Epoch 48/100\n",
            "240/240 [==============================] - 0s 2ms/step - loss: 196474.1875\n",
            "Epoch 49/100\n",
            "240/240 [==============================] - 0s 2ms/step - loss: 196262.0312\n",
            "Epoch 50/100\n",
            "240/240 [==============================] - 0s 2ms/step - loss: 196050.0781\n",
            "Epoch 51/100\n",
            "240/240 [==============================] - 0s 2ms/step - loss: 195838.3125\n",
            "Epoch 52/100\n",
            "240/240 [==============================] - 1s 3ms/step - loss: 195626.5625\n",
            "Epoch 53/100\n",
            "240/240 [==============================] - 1s 2ms/step - loss: 195414.9062\n",
            "Epoch 54/100\n",
            "240/240 [==============================] - 1s 2ms/step - loss: 195203.5000\n",
            "Epoch 55/100\n",
            "240/240 [==============================] - 1s 2ms/step - loss: 194992.1094\n",
            "Epoch 56/100\n",
            "240/240 [==============================] - 1s 2ms/step - loss: 194780.8906\n",
            "Epoch 57/100\n",
            "240/240 [==============================] - 0s 2ms/step - loss: 194569.7188\n",
            "Epoch 58/100\n",
            "240/240 [==============================] - 0s 2ms/step - loss: 194358.6875\n",
            "Epoch 59/100\n",
            "240/240 [==============================] - 0s 2ms/step - loss: 194147.7812\n",
            "Epoch 60/100\n",
            "240/240 [==============================] - 0s 2ms/step - loss: 193936.8750\n",
            "Epoch 61/100\n",
            "240/240 [==============================] - 0s 2ms/step - loss: 193726.2344\n",
            "Epoch 62/100\n",
            "240/240 [==============================] - 0s 2ms/step - loss: 193515.6094\n",
            "Epoch 63/100\n",
            "240/240 [==============================] - 0s 2ms/step - loss: 193305.1875\n",
            "Epoch 64/100\n",
            "240/240 [==============================] - 0s 2ms/step - loss: 193094.7500\n",
            "Epoch 65/100\n",
            "240/240 [==============================] - 0s 2ms/step - loss: 192884.5000\n",
            "Epoch 66/100\n",
            "240/240 [==============================] - 0s 2ms/step - loss: 192674.4375\n",
            "Epoch 67/100\n",
            "240/240 [==============================] - 0s 2ms/step - loss: 192464.4375\n",
            "Epoch 68/100\n",
            "240/240 [==============================] - 0s 2ms/step - loss: 192254.5156\n",
            "Epoch 69/100\n",
            "240/240 [==============================] - 0s 2ms/step - loss: 192044.8594\n",
            "Epoch 70/100\n",
            "240/240 [==============================] - 0s 2ms/step - loss: 191835.1094\n",
            "Epoch 71/100\n",
            "240/240 [==============================] - 0s 2ms/step - loss: 191625.5938\n",
            "Epoch 72/100\n",
            "240/240 [==============================] - 0s 2ms/step - loss: 191416.0781\n",
            "Epoch 73/100\n",
            "240/240 [==============================] - 0s 2ms/step - loss: 191206.8438\n",
            "Epoch 74/100\n",
            "240/240 [==============================] - 0s 2ms/step - loss: 190997.6406\n",
            "Epoch 75/100\n",
            "240/240 [==============================] - 0s 2ms/step - loss: 190788.5781\n",
            "Epoch 76/100\n",
            "240/240 [==============================] - 0s 2ms/step - loss: 190579.5938\n",
            "Epoch 77/100\n",
            "240/240 [==============================] - 0s 2ms/step - loss: 190370.7969\n",
            "Epoch 78/100\n",
            "240/240 [==============================] - 0s 2ms/step - loss: 190162.1094\n",
            "Epoch 79/100\n",
            "240/240 [==============================] - 0s 2ms/step - loss: 189953.3750\n",
            "Epoch 80/100\n",
            "240/240 [==============================] - 1s 2ms/step - loss: 189744.9062\n",
            "Epoch 81/100\n",
            "240/240 [==============================] - 1s 2ms/step - loss: 189536.5312\n",
            "Epoch 82/100\n",
            "240/240 [==============================] - 1s 2ms/step - loss: 189328.2656\n",
            "Epoch 83/100\n",
            "240/240 [==============================] - 1s 2ms/step - loss: 189120.0625\n",
            "Epoch 84/100\n",
            "240/240 [==============================] - 1s 2ms/step - loss: 188912.0156\n",
            "Epoch 85/100\n",
            "240/240 [==============================] - 0s 2ms/step - loss: 188704.1250\n",
            "Epoch 86/100\n",
            "240/240 [==============================] - 0s 2ms/step - loss: 188496.3594\n",
            "Epoch 87/100\n",
            "240/240 [==============================] - 0s 2ms/step - loss: 188288.5469\n",
            "Epoch 88/100\n",
            "240/240 [==============================] - 0s 2ms/step - loss: 188081.0000\n",
            "Epoch 89/100\n",
            "240/240 [==============================] - 0s 2ms/step - loss: 187873.5000\n",
            "Epoch 90/100\n",
            "240/240 [==============================] - 0s 2ms/step - loss: 187666.2188\n",
            "Epoch 91/100\n",
            "240/240 [==============================] - 0s 2ms/step - loss: 187458.9531\n",
            "Epoch 92/100\n",
            "240/240 [==============================] - 0s 2ms/step - loss: 187251.7969\n",
            "Epoch 93/100\n",
            "240/240 [==============================] - 0s 2ms/step - loss: 187044.8125\n",
            "Epoch 94/100\n",
            "240/240 [==============================] - 0s 2ms/step - loss: 186837.9531\n",
            "Epoch 95/100\n",
            "240/240 [==============================] - 0s 2ms/step - loss: 186631.0938\n",
            "Epoch 96/100\n",
            "240/240 [==============================] - 0s 2ms/step - loss: 186424.4844\n",
            "Epoch 97/100\n",
            "240/240 [==============================] - 0s 2ms/step - loss: 186217.8750\n",
            "Epoch 98/100\n",
            "240/240 [==============================] - 0s 2ms/step - loss: 186011.4062\n",
            "Epoch 99/100\n",
            "240/240 [==============================] - 0s 2ms/step - loss: 185805.1719\n",
            "Epoch 100/100\n",
            "240/240 [==============================] - 1s 3ms/step - loss: 185598.9375\n"
          ]
        },
        {
          "output_type": "execute_result",
          "data": {
            "text/plain": [
              "<keras.callbacks.History at 0x7f8d765f53d0>"
            ]
          },
          "metadata": {},
          "execution_count": 12
        }
      ]
    },
    {
      "cell_type": "markdown",
      "metadata": {
        "id": "0H0zKKNEBLD5"
      },
      "source": [
        "### Predicting the results of the Test set"
      ]
    },
    {
      "cell_type": "code",
      "source": [
        "y_pred=ann.predict(x_test)\n",
        "np.set_printoptions(precision=2)\n",
        "print(np.concatenate((y_pred.reshape(len(y_pred),1),y_test.reshape(len(y_test),1)),1))"
      ],
      "metadata": {
        "colab": {
          "base_uri": "https://localhost:8080/"
        },
        "id": "BTR-R-nLyXmM",
        "outputId": "03b6e123-ce14-480b-b93d-bb7fa7cb4823"
      },
      "execution_count": 13,
      "outputs": [
        {
          "output_type": "stream",
          "name": "stdout",
          "text": [
            "60/60 [==============================] - 0s 2ms/step\n",
            "[[ 23.95 431.23]\n",
            " [ 23.95 460.01]\n",
            " [ 23.95 461.14]\n",
            " ...\n",
            " [ 23.95 473.26]\n",
            " [ 23.95 438.  ]\n",
            " [ 23.95 463.28]]\n"
          ]
        }
      ]
    }
  ]
}